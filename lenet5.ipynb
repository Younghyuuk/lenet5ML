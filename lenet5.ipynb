{
 "cells": [
  {
   "cell_type": "code",
   "execution_count": 1,
   "id": "ea943f7d-d024-4cbd-9cbf-4247b0c1487b",
   "metadata": {
    "jupyter": {
     "source_hidden": true
    }
   },
   "outputs": [],
   "source": [
    "import tensorflow as tf\n",
    "from tensorflow.keras import datasets, layers, models\n",
    "from tensorflow.keras.utils import to_categorical\n"
   ]
  },
  {
   "cell_type": "code",
   "execution_count": 2,
   "id": "258e9297-9172-48c4-8846-1e793f6b9ca9",
   "metadata": {},
   "outputs": [],
   "source": [
    "# Load and preprocess the MNIST dataset\n",
    "(x_train, y_train), (x_test, y_test) = datasets.mnist.load_data()\n",
    "x_train = x_train.reshape(-1, 28, 28, 1) / 255.0\n",
    "x_test = x_test.reshape(-1, 28, 28, 1) / 255.0\n",
    "y_train = to_categorical(y_train, num_classes=10)\n",
    "y_test = to_categorical(y_test, num_classes=10)\n"
   ]
  },
  {
   "cell_type": "code",
   "execution_count": 3,
   "id": "661e26b9-e6cb-4783-8faa-20d2b8f54ca8",
   "metadata": {},
   "outputs": [],
   "source": [
    "# Define the LeNet-5 model with some changes in the kernel sizes and layer configuration\n",
    "model = models.Sequential([\n",
    "    layers.Input(shape=(28, 28, 1)),\n",
    "    layers.Conv2D(10, kernel_size=(3, 3), activation='relu', padding='same'),  # Increased number of filters and changed kernel size\n",
    "    layers.AveragePooling2D(pool_size=(2, 2)),\n",
    "    layers.Conv2D(20, kernel_size=(3, 3), activation='relu'),  # Increased number of filters\n",
    "    layers.AveragePooling2D(pool_size=(2, 2)),\n",
    "    layers.Conv2D(120, kernel_size=(3, 3), activation='relu'),  # Adjusted for size consistency\n",
    "    layers.Flatten(),\n",
    "    layers.Dense(84, activation='relu'),\n",
    "    layers.Dense(10, activation='softmax')\n",
    "])\n"
   ]
  },
  {
   "cell_type": "code",
   "execution_count": 4,
   "id": "c4a2426f-c50f-4cf1-90d4-45bf65420f34",
   "metadata": {},
   "outputs": [],
   "source": [
    "# Compile the model with a different optimizer and learning rate\n",
    "model.compile(optimizer=tf.keras.optimizers.Adam(learning_rate=0.001),  # Adjusted learning rate\n",
    "              loss='categorical_crossentropy',\n",
    "              metrics=['accuracy'])\n"
   ]
  },
  {
   "cell_type": "code",
   "execution_count": 5,
   "id": "9e21b345-5ce4-47d4-9cc5-bc4e649f34ee",
   "metadata": {},
   "outputs": [
    {
     "name": "stdout",
     "output_type": "stream",
     "text": [
      "Epoch 1/15\n",
      "\u001b[1m938/938\u001b[0m \u001b[32m━━━━━━━━━━━━━━━━━━━━\u001b[0m\u001b[37m\u001b[0m \u001b[1m3s\u001b[0m 2ms/step - accuracy: 0.8641 - loss: 0.4846 - val_accuracy: 0.9767 - val_loss: 0.0740\n",
      "Epoch 2/15\n",
      "\u001b[1m938/938\u001b[0m \u001b[32m━━━━━━━━━━━━━━━━━━━━\u001b[0m\u001b[37m\u001b[0m \u001b[1m2s\u001b[0m 2ms/step - accuracy: 0.9795 - loss: 0.0670 - val_accuracy: 0.9853 - val_loss: 0.0483\n",
      "Epoch 3/15\n",
      "\u001b[1m938/938\u001b[0m \u001b[32m━━━━━━━━━━━━━━━━━━━━\u001b[0m\u001b[37m\u001b[0m \u001b[1m2s\u001b[0m 2ms/step - accuracy: 0.9870 - loss: 0.0420 - val_accuracy: 0.9895 - val_loss: 0.0332\n",
      "Epoch 4/15\n",
      "\u001b[1m938/938\u001b[0m \u001b[32m━━━━━━━━━━━━━━━━━━━━\u001b[0m\u001b[37m\u001b[0m \u001b[1m2s\u001b[0m 2ms/step - accuracy: 0.9894 - loss: 0.0326 - val_accuracy: 0.9887 - val_loss: 0.0362\n",
      "Epoch 5/15\n",
      "\u001b[1m938/938\u001b[0m \u001b[32m━━━━━━━━━━━━━━━━━━━━\u001b[0m\u001b[37m\u001b[0m \u001b[1m2s\u001b[0m 2ms/step - accuracy: 0.9923 - loss: 0.0260 - val_accuracy: 0.9917 - val_loss: 0.0289\n",
      "Epoch 6/15\n",
      "\u001b[1m938/938\u001b[0m \u001b[32m━━━━━━━━━━━━━━━━━━━━\u001b[0m\u001b[37m\u001b[0m \u001b[1m2s\u001b[0m 2ms/step - accuracy: 0.9935 - loss: 0.0195 - val_accuracy: 0.9864 - val_loss: 0.0441\n",
      "Epoch 7/15\n",
      "\u001b[1m938/938\u001b[0m \u001b[32m━━━━━━━━━━━━━━━━━━━━\u001b[0m\u001b[37m\u001b[0m \u001b[1m2s\u001b[0m 2ms/step - accuracy: 0.9949 - loss: 0.0155 - val_accuracy: 0.9907 - val_loss: 0.0322\n",
      "Epoch 8/15\n",
      "\u001b[1m938/938\u001b[0m \u001b[32m━━━━━━━━━━━━━━━━━━━━\u001b[0m\u001b[37m\u001b[0m \u001b[1m2s\u001b[0m 2ms/step - accuracy: 0.9954 - loss: 0.0143 - val_accuracy: 0.9914 - val_loss: 0.0310\n",
      "Epoch 9/15\n",
      "\u001b[1m938/938\u001b[0m \u001b[32m━━━━━━━━━━━━━━━━━━━━\u001b[0m\u001b[37m\u001b[0m \u001b[1m2s\u001b[0m 2ms/step - accuracy: 0.9958 - loss: 0.0122 - val_accuracy: 0.9915 - val_loss: 0.0318\n",
      "Epoch 10/15\n",
      "\u001b[1m938/938\u001b[0m \u001b[32m━━━━━━━━━━━━━━━━━━━━\u001b[0m\u001b[37m\u001b[0m \u001b[1m2s\u001b[0m 2ms/step - accuracy: 0.9971 - loss: 0.0099 - val_accuracy: 0.9885 - val_loss: 0.0383\n",
      "Epoch 11/15\n",
      "\u001b[1m938/938\u001b[0m \u001b[32m━━━━━━━━━━━━━━━━━━━━\u001b[0m\u001b[37m\u001b[0m \u001b[1m2s\u001b[0m 2ms/step - accuracy: 0.9974 - loss: 0.0089 - val_accuracy: 0.9898 - val_loss: 0.0386\n",
      "Epoch 12/15\n",
      "\u001b[1m938/938\u001b[0m \u001b[32m━━━━━━━━━━━━━━━━━━━━\u001b[0m\u001b[37m\u001b[0m \u001b[1m2s\u001b[0m 2ms/step - accuracy: 0.9971 - loss: 0.0086 - val_accuracy: 0.9918 - val_loss: 0.0299\n",
      "Epoch 13/15\n",
      "\u001b[1m938/938\u001b[0m \u001b[32m━━━━━━━━━━━━━━━━━━━━\u001b[0m\u001b[37m\u001b[0m \u001b[1m2s\u001b[0m 2ms/step - accuracy: 0.9984 - loss: 0.0061 - val_accuracy: 0.9916 - val_loss: 0.0362\n",
      "Epoch 14/15\n",
      "\u001b[1m938/938\u001b[0m \u001b[32m━━━━━━━━━━━━━━━━━━━━\u001b[0m\u001b[37m\u001b[0m \u001b[1m2s\u001b[0m 2ms/step - accuracy: 0.9980 - loss: 0.0056 - val_accuracy: 0.9874 - val_loss: 0.0450\n",
      "Epoch 15/15\n",
      "\u001b[1m938/938\u001b[0m \u001b[32m━━━━━━━━━━━━━━━━━━━━\u001b[0m\u001b[37m\u001b[0m \u001b[1m2s\u001b[0m 2ms/step - accuracy: 0.9981 - loss: 0.0060 - val_accuracy: 0.9928 - val_loss: 0.0293\n"
     ]
    }
   ],
   "source": [
    "# Train the model with different batch size and more epochs\n",
    "history = model.fit(x_train, y_train, batch_size=64, epochs=15, validation_data=(x_test, y_test))\n"
   ]
  },
  {
   "cell_type": "code",
   "execution_count": 6,
   "id": "b13b4a55-b901-40e6-8e1e-3f05b74052da",
   "metadata": {},
   "outputs": [
    {
     "name": "stdout",
     "output_type": "stream",
     "text": [
      "157/157 - 0s - 937us/step - accuracy: 0.9928 - loss: 0.0293\n",
      "Test Loss: 0.029338696971535683\n",
      "Test Accuracy: 0.9927999973297119\n"
     ]
    }
   ],
   "source": [
    "# Evaluate the model with a different batch size during testing\n",
    "test_loss, test_acc = model.evaluate(x_test, y_test, batch_size=64, verbose=2)\n",
    "print(f\"Test Loss: {test_loss}\")\n",
    "print(f\"Test Accuracy: {test_acc}\")"
   ]
  },
  {
   "cell_type": "code",
   "execution_count": 7,
   "id": "c0d715f2-59fb-47c0-96ad-f6e35fd1e9aa",
   "metadata": {},
   "outputs": [],
   "source": [
    "# Additional testing: Test model with different random subsets of test data\n",
    "import numpy as np\n",
    "idx = np.random.choice(np.arange(len(x_test)), 5000, replace=False)\n",
    "x_test_subset = x_test[idx]\n",
    "y_test_subset = y_test[idx]"
   ]
  },
  {
   "cell_type": "code",
   "execution_count": 8,
   "id": "1f35a238-82f0-4f5a-847e-bbf499acfec2",
   "metadata": {},
   "outputs": [
    {
     "name": "stdout",
     "output_type": "stream",
     "text": [
      "157/157 - 0s - 835us/step - accuracy: 0.9938 - loss: 0.0259\n",
      "Subset Test Loss: 0.02585619129240513\n",
      "Subset Test Accuracy: 0.9937999844551086\n"
     ]
    }
   ],
   "source": [
    "subset_loss, subset_acc = model.evaluate(x_test_subset, y_test_subset, verbose=2)\n",
    "print(f\"Subset Test Loss: {subset_loss}\")\n",
    "print(f\"Subset Test Accuracy: {subset_acc}\")"
   ]
  },
  {
   "cell_type": "code",
   "execution_count": null,
   "id": "0ecbe8a9-2f3c-4652-ab4f-3bdbcb327113",
   "metadata": {},
   "outputs": [],
   "source": []
  }
 ],
 "metadata": {
  "kernelspec": {
   "display_name": "Python 3 (ipykernel)",
   "language": "python",
   "name": "python3"
  },
  "language_info": {
   "codemirror_mode": {
    "name": "ipython",
    "version": 3
   },
   "file_extension": ".py",
   "mimetype": "text/x-python",
   "name": "python",
   "nbconvert_exporter": "python",
   "pygments_lexer": "ipython3",
   "version": "3.9.13"
  }
 },
 "nbformat": 4,
 "nbformat_minor": 5
}
